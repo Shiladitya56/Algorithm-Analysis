{
  "nbformat": 4,
  "nbformat_minor": 0,
  "metadata": {
    "colab": {
      "provenance": [],
      "authorship_tag": "ABX9TyOgTdOqTFtGbZFCpsB1bBXv",
      "include_colab_link": true
    },
    "kernelspec": {
      "name": "python3",
      "display_name": "Python 3"
    },
    "language_info": {
      "name": "python"
    }
  },
  "cells": [
    {
      "cell_type": "markdown",
      "metadata": {
        "id": "view-in-github",
        "colab_type": "text"
      },
      "source": [
        "<a href=\"https://colab.research.google.com/github/Shiladitya56/Algorithm-Analysis/blob/main/SEM2/sorting.ipynb\" target=\"_parent\"><img src=\"https://colab.research.google.com/assets/colab-badge.svg\" alt=\"Open In Colab\"/></a>"
      ]
    },
    {
      "cell_type": "markdown",
      "source": [
        "#Get Set Sort!!!\n",
        "##Bubbling\n"
      ],
      "metadata": {
        "id": "yMhdPOjl97zy"
      }
    },
    {
      "cell_type": "code",
      "source": [
        "import random"
      ],
      "metadata": {
        "id": "3FQkiGfq_qIo"
      },
      "execution_count": null,
      "outputs": []
    },
    {
      "cell_type": "code",
      "execution_count": null,
      "metadata": {
        "id": "vmPn7b-z95Kv"
      },
      "outputs": [],
      "source": [
        "def bubbleSort(array):\n",
        "  for i in range(len(array)):\n",
        "    swapped = False\n",
        "    for j in range(0, len(array) - i - 1):\n",
        "      if array[j] > array[j + 1]:\n",
        "        temp = array[j]\n",
        "        array[j] = array[j+1]\n",
        "        array[j+1] = temp\n",
        "        swapped = True\n",
        "    if not swapped:\n",
        "      break"
      ]
    },
    {
      "cell_type": "code",
      "source": [
        "randomlist = []\n",
        "for i in range(100000):\n",
        "  randomlist.append(random.randint(1,99999999))"
      ],
      "metadata": {
        "id": "aMZabVoM_XI3"
      },
      "execution_count": null,
      "outputs": []
    },
    {
      "cell_type": "code",
      "source": [
        "%%time\n",
        "bubbleSort(randomlist)"
      ],
      "metadata": {
        "colab": {
          "base_uri": "https://localhost:8080/"
        },
        "id": "zNuqJXF_AkN2",
        "outputId": "b02cf9f0-a651-47e3-ef2f-c8d6538b6a47"
      },
      "execution_count": null,
      "outputs": [
        {
          "output_type": "stream",
          "name": "stdout",
          "text": [
            "CPU times: user 25min 16s, sys: 3.8 s, total: 25min 20s\n",
            "Wall time: 25min 34s\n"
          ]
        }
      ]
    },
    {
      "cell_type": "code",
      "source": [
        "def mergeSort(array):\n",
        "    if len(array) > 1:\n",
        "        r = len(array)//2\n",
        "        L = array[:r]\n",
        "        M = array[r:]\n",
        "        mergeSort(L)\n",
        "        mergeSort(M)\n",
        "        i = j = k = 0\n",
        "        while i < len(L) and j < len(M):\n",
        "            if L[i] < M[j]:\n",
        "                array[k] = L[i]\n",
        "                i += 1\n",
        "            else:\n",
        "                array[k] = M[j]\n",
        "                j += 1\n",
        "            k += 1\n",
        "        while i < len(L):\n",
        "            array[k] = L[i]\n",
        "            i += 1\n",
        "            k += 1\n",
        "\n",
        "        while j < len(M):\n",
        "            array[k] = M[j]\n",
        "            j += 1\n",
        "            k += 1\n",
        "def printList(array):\n",
        "    for i in range(len(array)):\n",
        "        print(array[i], end=\" \")\n",
        "    print()"
      ],
      "metadata": {
        "id": "1eksFRyoBL5h"
      },
      "execution_count": null,
      "outputs": []
    },
    {
      "cell_type": "code",
      "source": [
        "randomlist1 = []\n",
        "for i in range(100000):\n",
        "  randomlist1.append(random.randint(1,99999999))"
      ],
      "metadata": {
        "id": "jW51BgUEOlzX"
      },
      "execution_count": null,
      "outputs": []
    },
    {
      "cell_type": "code",
      "source": [
        "%%time\n",
        "mergeSort(randomlist1)"
      ],
      "metadata": {
        "colab": {
          "base_uri": "https://localhost:8080/"
        },
        "id": "tdSy2655NsYK",
        "outputId": "2cd20f9f-ec54-4999-8421-b863c2a82cb2"
      },
      "execution_count": null,
      "outputs": [
        {
          "output_type": "stream",
          "name": "stdout",
          "text": [
            "CPU times: user 1.19 s, sys: 951 µs, total: 1.2 s\n",
            "Wall time: 1.25 s\n"
          ]
        }
      ]
    }
  ]
}