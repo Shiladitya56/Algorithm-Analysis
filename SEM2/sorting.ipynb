{
  "nbformat": 4,
  "nbformat_minor": 0,
  "metadata": {
    "colab": {
      "provenance": [],
      "authorship_tag": "ABX9TyMSHue/qF7wtlr5oPMW+AIH",
      "include_colab_link": true
    },
    "kernelspec": {
      "name": "python3",
      "display_name": "Python 3"
    },
    "language_info": {
      "name": "python"
    }
  },
  "cells": [
    {
      "cell_type": "markdown",
      "metadata": {
        "id": "view-in-github",
        "colab_type": "text"
      },
      "source": [
        "<a href=\"https://colab.research.google.com/github/Shiladitya56/Algorithm-Analysis/blob/main/SEM2/sorting.ipynb\" target=\"_parent\"><img src=\"https://colab.research.google.com/assets/colab-badge.svg\" alt=\"Open In Colab\"/></a>"
      ]
    },
    {
      "cell_type": "markdown",
      "source": [
        "#Get Set Sort!!!\n",
        "##Bubbling\n"
      ],
      "metadata": {
        "id": "yMhdPOjl97zy"
      }
    },
    {
      "cell_type": "code",
      "source": [
        "import random\n",
        "from typing import List\n",
        "import time\n",
        "import matplotlib.pyplot as pt"
      ],
      "metadata": {
        "id": "3FQkiGfq_qIo"
      },
      "execution_count": 7,
      "outputs": []
    },
    {
      "cell_type": "code",
      "source": [
        "class Sort(object):\n",
        "  arr = []\n",
        "  def __init__(shila, arr:List):\n",
        "    shila.arr = arr\n",
        "  def sort():\n",
        "    raise NotImplementedError()"
      ],
      "metadata": {
        "id": "AS1s2hXDW-oF"
      },
      "execution_count": 8,
      "outputs": []
    },
    {
      "cell_type": "code",
      "source": [
        "class Bubble(Sort):\n",
        "  et = 0\n",
        "  def __init__(shila, arr:List):\n",
        "    super().__init__(arr)\n",
        "  def sort(shila)->None:\n",
        "    st = time.time()\n",
        "    for i in range(len(shila.arr)):\n",
        "      swapped = False\n",
        "      for j in range(0, len(shila.arr) - i - 1):\n",
        "        if shila.arr[j] > shila.arr[j + 1]:\n",
        "          temp = shila.arr[j]\n",
        "          shila.arr[j] = shila.arr[j+1]\n",
        "          shila.arr[j+1] = temp\n",
        "          swapped = True\n",
        "      if not swapped:\n",
        "        break\n",
        "    shila.et = time.time() - st\n",
        "class Merge(Sort):\n",
        "  et = 0\n",
        "  def __init__(shila, arr:List):\n",
        "    super().__init__(arr)\n",
        "  def sort(shila):\n",
        "    st = time.time()\n",
        "    w = 1\n",
        "    n = len(shila.arr)\n",
        "    while w < n:\n",
        "      l = 0\n",
        "      while l < n:\n",
        "        r = min(l+(w*2-1), n-1)\n",
        "        m = min(l+w-1,n-1)\n",
        "        shila.merge(l, m, r)\n",
        "        l += w* 2\n",
        "      w *= 2\n",
        "    shila.et = time.time() - st\n",
        "  def merge(shila, l, m, r):\n",
        "    n1 = m - l + 1\n",
        "    n2 = r - m\n",
        "    L = [0] * n1\n",
        "    R = [0] * n2\n",
        "    for i in range(0, n1):\n",
        "      L[i] = shila.arr[l + i]\n",
        "    for i in range(0, n2):\n",
        "      R[i] = shila.arr[m + i + 1]\n",
        "    i, j, k = 0, 0, l\n",
        "    while i < n1 and j < n2:\n",
        "      if L[i] <= R[j]:\n",
        "        shila.arr[k] = L[i]\n",
        "        i += 1\n",
        "      else:\n",
        "        shila.arr[k] = R[j]\n",
        "        j += 1\n",
        "      k += 1\n",
        "    while i < n1:\n",
        "      shila.arr[k] = L[i]\n",
        "      i += 1\n",
        "      k += 1\n",
        "    while j < n2:\n",
        "      shila.arr[k] = R[j]\n",
        "      j += 1\n",
        "      k += 1"
      ],
      "metadata": {
        "id": "RWHIRI8NXmwm"
      },
      "execution_count": 9,
      "outputs": []
    },
    {
      "cell_type": "code",
      "source": [
        "class Complex(object):\n",
        "  bubble = []\n",
        "  merge = []\n",
        "  def __init__(shila):\n",
        "    pass\n",
        "  def timcom(shila):\n",
        "    for i in range(10,1000,100):\n",
        "      r1 = []\n",
        "      for j in range(i):\n",
        "        r1.append(random.randint(1,999999999))\n",
        "      r2 = r1[:]\n",
        "      mer = Merge(r1)\n",
        "      mer.sort()\n",
        "      shila.merge.append(mer.et)\n",
        "      bub = Bubble(r2)\n",
        "      bub.sort()\n",
        "      shila.bubble.append(bub.et)\n",
        "    return shila.merge, shila.bubble"
      ],
      "metadata": {
        "id": "HrJ11sX6tdnn"
      },
      "execution_count": 10,
      "outputs": []
    },
    {
      "cell_type": "code",
      "source": [
        "tim = Complex()\n",
        "merge, bubble = tim.timcom()"
      ],
      "metadata": {
        "id": "Bcq1vPGWtvkS"
      },
      "execution_count": 11,
      "outputs": []
    },
    {
      "cell_type": "code",
      "source": [
        "pt.plot(range(10,1000,100), merge)\n",
        "pt.plot(range(10,1000,100), bubble)\n",
        "pt.legend(['merge', 'bubble'])\n",
        "pt.xlabel('number of inputs')\n",
        "pt.ylabel('time taken in seconds')\n",
        "pt.title('Time Complexity');"
      ],
      "metadata": {
        "colab": {
          "base_uri": "https://localhost:8080/",
          "height": 472
        },
        "id": "H3QLM6hXvQRj",
        "outputId": "dda73acb-e537-4b71-a2f4-c6a13ab80309"
      },
      "execution_count": 12,
      "outputs": [
        {
          "output_type": "display_data",
          "data": {
            "text/plain": [
              "<Figure size 640x480 with 1 Axes>"
            ],
            "image/png": "[encoded data removed]"
          },
          "metadata": {}
        }
      ]
    }
  ]
}